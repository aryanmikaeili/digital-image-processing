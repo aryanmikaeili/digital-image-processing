{
 "cells": [
  {
   "cell_type": "code",
   "execution_count": 2,
   "metadata": {
    "colab": {},
    "colab_type": "code",
    "id": "MHV_asWUTQe5"
   },
   "outputs": [],
   "source": [
    "import numpy as np\n",
    "import cv2 as cv\n",
    "import matplotlib.pyplot as plt"
   ]
  },
  {
   "cell_type": "markdown",
   "metadata": {
    "colab_type": "text",
    "id": "B-N_9zZA5lLV"
   },
   "source": [
    "##PROCESSING IMAGE"
   ]
  },
  {
   "cell_type": "markdown",
   "metadata": {
    "colab_type": "text",
    "id": "1f4R1iPT5W3H"
   },
   "source": [
    "### read"
   ]
  },
  {
   "cell_type": "code",
   "execution_count": 3,
   "metadata": {
    "colab": {},
    "colab_type": "code",
    "id": "d-eXHClclGOo"
   },
   "outputs": [],
   "source": [
    "''' Upload and Read image Poppy.jpg '''\n",
    "image = cv.imread(\"Poppy.jpg\", cv.GRAY)"
   ]
  },
  {
   "cell_type": "markdown",
   "metadata": {
    "colab_type": "text",
    "id": "L7-uoosS5ZA4"
   },
   "source": [
    "### size"
   ]
  },
  {
   "cell_type": "code",
   "execution_count": 0,
   "metadata": {
    "colab": {},
    "colab_type": "code",
    "id": "NXl63NItvSWu"
   },
   "outputs": [],
   "source": [
    "''' print image size '''\n",
    "print()\n",
    "\n",
    "''' resize the image to 1/4 '''\n",
    "image = cv.\n",
    "\n",
    "''' print new size of image '''\n",
    "print()"
   ]
  },
  {
   "cell_type": "markdown",
   "metadata": {
    "colab_type": "text",
    "id": "GBgS1Vx55db7"
   },
   "source": [
    "### channels"
   ]
  },
  {
   "cell_type": "code",
   "execution_count": 0,
   "metadata": {
    "colab": {},
    "colab_type": "code",
    "id": "g5dbgJEkzCDF"
   },
   "outputs": [],
   "source": [
    "''' set channels of loaded image to rgb '''\n",
    "image = cv.\n",
    "''' grayscale '''\n",
    "gray = cv.\n",
    "''' whiten the red channel '''\n",
    "no_red = "
   ]
  },
  {
   "cell_type": "code",
   "execution_count": 0,
   "metadata": {
    "colab": {},
    "colab_type": "code",
    "id": "DR5QxDg9wvSu"
   },
   "outputs": [],
   "source": [
    "''' Show rgb, gray, and no_red images '''\n",
    "plt.imshow()"
   ]
  },
  {
   "cell_type": "markdown",
   "metadata": {
    "colab_type": "text",
    "id": "YClf5TgV5gbj"
   },
   "source": [
    "## CONVOLUTION"
   ]
  },
  {
   "cell_type": "markdown",
   "metadata": {
    "colab_type": "text",
    "id": "AcIMVLL55u_A"
   },
   "source": [
    "### kernel"
   ]
  },
  {
   "cell_type": "code",
   "execution_count": 0,
   "metadata": {
    "colab": {},
    "colab_type": "code",
    "id": "aWsTbSAjugPk"
   },
   "outputs": [],
   "source": [
    "''' kernels for convolution '''\n",
    "x_sobel = np.array([[-1, 0, 1], [-2, 0, 2], [-1, 0, 1]])\n",
    "y_sobel = np.array([[-1, -2, -1], [0, 0, 0], [1, 2, 1]])"
   ]
  },
  {
   "cell_type": "code",
   "execution_count": 0,
   "metadata": {
    "colab": {},
    "colab_type": "code",
    "id": "R3n8QzdQzsWz"
   },
   "outputs": [],
   "source": [
    "''' show kernels '''\n",
    "plt.imshow()"
   ]
  },
  {
   "cell_type": "markdown",
   "metadata": {
    "colab_type": "text",
    "id": "U1yuGkR05yTJ"
   },
   "source": [
    "### padding function"
   ]
  },
  {
   "cell_type": "code",
   "execution_count": 0,
   "metadata": {
    "colab": {},
    "colab_type": "code",
    "id": "H1cD9RD_lh1W"
   },
   "outputs": [],
   "source": [
    "''' this function takes image and padding size to pad the image by zeros '''\n",
    "\n",
    "def padding(img, k):\n",
    "  return"
   ]
  },
  {
   "cell_type": "code",
   "execution_count": 0,
   "metadata": {
    "colab": {},
    "colab_type": "code",
    "id": "Orv8Y6IK8MyO"
   },
   "outputs": [],
   "source": [
    "padded = padding(gray, 1)"
   ]
  },
  {
   "cell_type": "markdown",
   "metadata": {
    "colab_type": "text",
    "id": "rrCYEu8r57U9"
   },
   "source": [
    "###convolution function:\n",
    "\n",
    "\n",
    "convolve gray image and padded image (k=1) using both x_sobel and y_sobel kernels and plot them using plt"
   ]
  },
  {
   "cell_type": "code",
   "execution_count": 0,
   "metadata": {
    "colab": {},
    "colab_type": "code",
    "id": "-_sskTe4lwKr"
   },
   "outputs": [],
   "source": [
    "''' this function takes grayscale image and filter to convolve image by filter '''\n",
    "def conv2d(im, f):\n",
    "  return"
   ]
  },
  {
   "cell_type": "code",
   "execution_count": 0,
   "metadata": {
    "colab": {},
    "colab_type": "code",
    "id": "P69xRyQS8nqG"
   },
   "outputs": [],
   "source": [
    "filtered_x = conv2d(gray, x_sobel)\n",
    "filtered_x = conv2d(gray, y_sobel)\n",
    "padded_x = conv2d(padded, x_sobel)\n",
    "padded_y = conv2d(padded, y_sobel)"
   ]
  },
  {
   "cell_type": "code",
   "execution_count": 0,
   "metadata": {
    "colab": {},
    "colab_type": "code",
    "id": "avxbbIc88_gL"
   },
   "outputs": [],
   "source": [
    "''' show 4 resulting images. compare their sizes '''\n",
    "\n",
    "plt.imshow()"
   ]
  },
  {
   "cell_type": "markdown",
   "metadata": {
    "colab_type": "text",
    "id": "XcQrJwlj7xww"
   },
   "source": [
    "### opencv convolution\n",
    "\n",
    "convolve gray image using both kernels"
   ]
  },
  {
   "cell_type": "code",
   "execution_count": 0,
   "metadata": {
    "colab": {},
    "colab_type": "code",
    "id": "Ow3SrDwxl6al"
   },
   "outputs": [],
   "source": [
    "''' Convolve image using opencv '''\n",
    "cv_filtered = cv."
   ]
  },
  {
   "cell_type": "code",
   "execution_count": 0,
   "metadata": {
    "colab": {},
    "colab_type": "code",
    "id": "Ajy-F9yI0hIn"
   },
   "outputs": [],
   "source": [
    "''' show 2 resulting images '''\n",
    "plt.imshow()"
   ]
  },
  {
   "cell_type": "markdown",
   "metadata": {
    "colab_type": "text",
    "id": "m698Zvm79IK2"
   },
   "source": [
    "\n",
    "**GOOD JOB :)**\n",
    "\n",
    "\n"
   ]
  }
 ],
 "metadata": {
  "colab": {
   "collapsed_sections": [],
   "name": "convolution.ipynb",
   "provenance": []
  },
  "kernelspec": {
   "display_name": "Python 3",
   "language": "python",
   "name": "python3"
  },
  "language_info": {
   "codemirror_mode": {
    "name": "ipython",
    "version": 3
   },
   "file_extension": ".py",
   "mimetype": "text/x-python",
   "name": "python",
   "nbconvert_exporter": "python",
   "pygments_lexer": "ipython3",
   "version": "3.6.3"
  }
 },
 "nbformat": 4,
 "nbformat_minor": 1
}
