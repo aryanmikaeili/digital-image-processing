{
 "cells": [
  {
   "cell_type": "code",
   "execution_count": 0,
   "metadata": {
    "colab": {},
    "colab_type": "code",
    "id": "Nd6sPyoKVtCZ"
   },
   "outputs": [],
   "source": [
    "import numpy as np\n",
    "import matplotlib.pyplot as p\n",
    "import cv2 as cv"
   ]
  },
  {
   "cell_type": "markdown",
   "metadata": {
    "colab_type": "text",
    "id": "PkZdleYYeQ0a"
   },
   "source": [
    "## FOURIER TRANSFORM\n",
    "\n",
    "show the fourier transform of given images:"
   ]
  },
  {
   "cell_type": "code",
   "execution_count": 0,
   "metadata": {
    "colab": {},
    "colab_type": "code",
    "id": "gaeh9Fo-Xcbc"
   },
   "outputs": [],
   "source": [
    "''' Write a function to take an image name and print and show its fourier transform '''\n",
    "\n",
    "def fourier(path):\n",
    "  ''' Read image in grayscale '''\n",
    "  im = cv.\n",
    "  \n",
    "  ''' Compute magnitude of fourier transform of image using numpy or opencv'''\n",
    "\n",
    "\n",
    "  ''' plot image and magnitude using plt.imshow '''\n"
   ]
  },
  {
   "cell_type": "code",
   "execution_count": 0,
   "metadata": {
    "colab": {},
    "colab_type": "code",
    "id": "_9Uod-r_kBIT"
   },
   "outputs": [],
   "source": [
    "for path in ['leaf.jpg', 'rocks.jpg', 'scene.jpg'v, 'starfish.jpg']:\n",
    "  fourier(path)"
   ]
  },
  {
   "cell_type": "markdown",
   "metadata": {
    "colab_type": "text",
    "id": "lZM_xajlld-Z"
   },
   "source": [
    "**GOOD JOB :)**\n",
    "\n"
   ]
  }
 ],
 "metadata": {
  "colab": {
   "collapsed_sections": [],
   "name": "fourier.ipynb",
   "provenance": []
  },
  "kernelspec": {
   "display_name": "Python 3",
   "language": "python",
   "name": "python3"
  },
  "language_info": {
   "codemirror_mode": {
    "name": "ipython",
    "version": 3
   },
   "file_extension": ".py",
   "mimetype": "text/x-python",
   "name": "python",
   "nbconvert_exporter": "python",
   "pygments_lexer": "ipython3",
   "version": "3.6.3"
  }
 },
 "nbformat": 4,
 "nbformat_minor": 1
}
